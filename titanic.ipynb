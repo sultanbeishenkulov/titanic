{
 "cells": [
  {
   "cell_type": "markdown",
   "metadata": {},
   "source": [
    "<h1 style=\"font-size:2em;\">TITANIC</h1>"
   ]
  },
  {
   "cell_type": "markdown",
   "metadata": {},
   "source": [
    "On April 15, 1912, during her maiden voyage, the widely considered “unsinkable” RMS Titanic sank after colliding with an iceberg. Unfortunately, there weren’t enough lifeboats for everyone onboard, resulting in the death of 1502 out of 2224 passengers and crew.\n",
    "\n",
    "While there was some element of luck involved in surviving, it seems some groups of people were more likely to survive than others.\n",
    "\n",
    "In this challenge, we ask you to build a predictive model that answers the question: “what sorts of people were more likely to survive?” using passenger data (ie name, age, gender, socio-economic class, etc)."
   ]
  },
  {
   "cell_type": "markdown",
   "metadata": {},
   "source": [
    "`INFO ABOUT DATA`\n",
    "\n",
    "There are two similar datasets that include passenger information like name, age, gender, socio-economic class, etc. One dataset is titled train.csv and the other is titled test.csv.\n",
    "\n",
    "Train.csv will contain the details of a subset of the passengers on board (891 to be exact) and importantly, will reveal whether they survived or not, also known as the “ground truth”. So 1 means that person survived and 0 means that person did not survived.\n",
    "\n",
    "The test.csv dataset contains similar information but does not disclose the “ground truth” for each passenger. It’s your job to predict these outcomes."
   ]
  },
  {
   "cell_type": "code",
   "execution_count": 27,
   "metadata": {},
   "outputs": [],
   "source": [
    "#Importing the libraries\n",
    "import pandas as pd \n",
    "import numpy as np \n",
    "import matplotlib.pyplot as plt\n",
    "import seaborn as sns\n",
    "from sklearn.preprocessing import LabelEncoder\n",
    "from sklearn.impute import SimpleImputer\n",
    "from plotly.subplots import make_subplots\n",
    "import plotly.graph_objects as go\n",
    "palette = ['#186F65','#B5CB99','#79AC78','#618264']\n",
    "color_palette = sns.color_palette(palette)\n",
    "sns.set(style=\"white\") #white background style for seaborn plots\n",
    "sns.set(style=\"whitegrid\", color_codes=True)\n",
    "# plt.rc(\"font\", size=14)\n",
    "# Ignore warnings\n",
    "import warnings\n",
    "warnings.filterwarnings(\"ignore\")"
   ]
  },
  {
   "cell_type": "markdown",
   "metadata": {},
   "source": [
    "`DATA UNDERSTANDING AND EXPLORATION`"
   ]
  },
  {
   "cell_type": "code",
   "execution_count": 2,
   "metadata": {},
   "outputs": [
    {
     "data": {
      "text/html": [
       "<div>\n",
       "<style scoped>\n",
       "    .dataframe tbody tr th:only-of-type {\n",
       "        vertical-align: middle;\n",
       "    }\n",
       "\n",
       "    .dataframe tbody tr th {\n",
       "        vertical-align: top;\n",
       "    }\n",
       "\n",
       "    .dataframe thead th {\n",
       "        text-align: right;\n",
       "    }\n",
       "</style>\n",
       "<table border=\"1\" class=\"dataframe\">\n",
       "  <thead>\n",
       "    <tr style=\"text-align: right;\">\n",
       "      <th></th>\n",
       "      <th>passengerid</th>\n",
       "      <th>survived</th>\n",
       "      <th>pclass</th>\n",
       "      <th>name</th>\n",
       "      <th>sex</th>\n",
       "      <th>age</th>\n",
       "      <th>sibsp</th>\n",
       "      <th>parch</th>\n",
       "      <th>ticket</th>\n",
       "      <th>fare</th>\n",
       "      <th>cabin</th>\n",
       "      <th>embarked</th>\n",
       "    </tr>\n",
       "  </thead>\n",
       "  <tbody>\n",
       "    <tr>\n",
       "      <th>0</th>\n",
       "      <td>1</td>\n",
       "      <td>0</td>\n",
       "      <td>3</td>\n",
       "      <td>Braund, Mr. Owen Harris</td>\n",
       "      <td>male</td>\n",
       "      <td>22.0</td>\n",
       "      <td>1</td>\n",
       "      <td>0</td>\n",
       "      <td>A/5 21171</td>\n",
       "      <td>7.2500</td>\n",
       "      <td>NaN</td>\n",
       "      <td>S</td>\n",
       "    </tr>\n",
       "    <tr>\n",
       "      <th>1</th>\n",
       "      <td>2</td>\n",
       "      <td>1</td>\n",
       "      <td>1</td>\n",
       "      <td>Cumings, Mrs. John Bradley (Florence Briggs Th...</td>\n",
       "      <td>female</td>\n",
       "      <td>38.0</td>\n",
       "      <td>1</td>\n",
       "      <td>0</td>\n",
       "      <td>PC 17599</td>\n",
       "      <td>71.2833</td>\n",
       "      <td>C85</td>\n",
       "      <td>C</td>\n",
       "    </tr>\n",
       "    <tr>\n",
       "      <th>2</th>\n",
       "      <td>3</td>\n",
       "      <td>1</td>\n",
       "      <td>3</td>\n",
       "      <td>Heikkinen, Miss. Laina</td>\n",
       "      <td>female</td>\n",
       "      <td>26.0</td>\n",
       "      <td>0</td>\n",
       "      <td>0</td>\n",
       "      <td>STON/O2. 3101282</td>\n",
       "      <td>7.9250</td>\n",
       "      <td>NaN</td>\n",
       "      <td>S</td>\n",
       "    </tr>\n",
       "    <tr>\n",
       "      <th>3</th>\n",
       "      <td>4</td>\n",
       "      <td>1</td>\n",
       "      <td>1</td>\n",
       "      <td>Futrelle, Mrs. Jacques Heath (Lily May Peel)</td>\n",
       "      <td>female</td>\n",
       "      <td>35.0</td>\n",
       "      <td>1</td>\n",
       "      <td>0</td>\n",
       "      <td>113803</td>\n",
       "      <td>53.1000</td>\n",
       "      <td>C123</td>\n",
       "      <td>S</td>\n",
       "    </tr>\n",
       "    <tr>\n",
       "      <th>4</th>\n",
       "      <td>5</td>\n",
       "      <td>0</td>\n",
       "      <td>3</td>\n",
       "      <td>Allen, Mr. William Henry</td>\n",
       "      <td>male</td>\n",
       "      <td>35.0</td>\n",
       "      <td>0</td>\n",
       "      <td>0</td>\n",
       "      <td>373450</td>\n",
       "      <td>8.0500</td>\n",
       "      <td>NaN</td>\n",
       "      <td>S</td>\n",
       "    </tr>\n",
       "    <tr>\n",
       "      <th>5</th>\n",
       "      <td>6</td>\n",
       "      <td>0</td>\n",
       "      <td>3</td>\n",
       "      <td>Moran, Mr. James</td>\n",
       "      <td>male</td>\n",
       "      <td>NaN</td>\n",
       "      <td>0</td>\n",
       "      <td>0</td>\n",
       "      <td>330877</td>\n",
       "      <td>8.4583</td>\n",
       "      <td>NaN</td>\n",
       "      <td>Q</td>\n",
       "    </tr>\n",
       "    <tr>\n",
       "      <th>6</th>\n",
       "      <td>7</td>\n",
       "      <td>0</td>\n",
       "      <td>1</td>\n",
       "      <td>McCarthy, Mr. Timothy J</td>\n",
       "      <td>male</td>\n",
       "      <td>54.0</td>\n",
       "      <td>0</td>\n",
       "      <td>0</td>\n",
       "      <td>17463</td>\n",
       "      <td>51.8625</td>\n",
       "      <td>E46</td>\n",
       "      <td>S</td>\n",
       "    </tr>\n",
       "  </tbody>\n",
       "</table>\n",
       "</div>"
      ],
      "text/plain": [
       "   passengerid  survived  pclass  \\\n",
       "0            1         0       3   \n",
       "1            2         1       1   \n",
       "2            3         1       3   \n",
       "3            4         1       1   \n",
       "4            5         0       3   \n",
       "5            6         0       3   \n",
       "6            7         0       1   \n",
       "\n",
       "                                                name     sex   age  sibsp  \\\n",
       "0                            Braund, Mr. Owen Harris    male  22.0      1   \n",
       "1  Cumings, Mrs. John Bradley (Florence Briggs Th...  female  38.0      1   \n",
       "2                             Heikkinen, Miss. Laina  female  26.0      0   \n",
       "3       Futrelle, Mrs. Jacques Heath (Lily May Peel)  female  35.0      1   \n",
       "4                           Allen, Mr. William Henry    male  35.0      0   \n",
       "5                                   Moran, Mr. James    male   NaN      0   \n",
       "6                            McCarthy, Mr. Timothy J    male  54.0      0   \n",
       "\n",
       "   parch            ticket     fare cabin embarked  \n",
       "0      0         A/5 21171   7.2500   NaN        S  \n",
       "1      0          PC 17599  71.2833   C85        C  \n",
       "2      0  STON/O2. 3101282   7.9250   NaN        S  \n",
       "3      0            113803  53.1000  C123        S  \n",
       "4      0            373450   8.0500   NaN        S  \n",
       "5      0            330877   8.4583   NaN        Q  \n",
       "6      0             17463  51.8625   E46        S  "
      ]
     },
     "execution_count": 2,
     "metadata": {},
     "output_type": "execute_result"
    }
   ],
   "source": [
    "#Loading the data\n",
    "train = pd.read_csv(\"/Users/sultanbeishenkulov/Programming/Projects/kaggle/titanic/train.csv\")\n",
    "test = pd.read_csv(\"/Users/sultanbeishenkulov/Programming/Projects/kaggle/titanic/test.csv\")\n",
    "train.columns = map(str.lower, train.columns)\n",
    "test.columns = map(str.lower, test.columns)\n",
    "train.head(7)"
   ]
  },
  {
   "cell_type": "code",
   "execution_count": 3,
   "metadata": {},
   "outputs": [
    {
     "name": "stdout",
     "output_type": "stream",
     "text": [
      "duplicates in train set: 0, duplicates in test set: 0\n"
     ]
    }
   ],
   "source": [
    "#Checking dublicates \n",
    "print('duplicates in train set: {}, duplicates in test set: {}'.format(train.duplicated().sum(), test.duplicated().sum()))"
   ]
  },
  {
   "cell_type": "code",
   "execution_count": 4,
   "metadata": {},
   "outputs": [
    {
     "name": "stdout",
     "output_type": "stream",
     "text": [
      "missing values in train set: passengerid      0\n",
      "survived         0\n",
      "pclass           0\n",
      "name             0\n",
      "sex              0\n",
      "age            177\n",
      "sibsp            0\n",
      "parch            0\n",
      "ticket           0\n",
      "fare             0\n",
      "cabin          687\n",
      "embarked         2\n",
      "dtype: int64\n"
     ]
    },
    {
     "data": {
      "image/png": "[encoded data removed]",
      "text/plain": [
       "<Figure size 432x288 with 1 Axes>"
      ]
     },
     "metadata": {},
     "output_type": "display_data"
    },
    {
     "name": "stdout",
     "output_type": "stream",
     "text": [
      "mean: 29.7 \t median: 28.0\n"
     ]
    }
   ],
   "source": [
    "#MISSING VALUES\n",
    "print('missing values in train set: {}'.format(train.isnull().sum()))\n",
    "#AGE\n",
    "ax = train['age'].hist(bins=40, density=True, stacked = True, color='teal',alpha=0.6)\n",
    "train['age'].plot(kind='density', color= 'red')\n",
    "ax.set(xlabel= 'Age')\n",
    "plt.xlim(-10,85)\n",
    "plt.title('Age distribution')\n",
    "plt.show()\n",
    "\n",
    "print('mean: {} \\t median: {}'.format(round(train['age'].mean(skipna=True),2), train['age'].median(skipna=True)))\n",
    "#we see that age distribution is right skewed meaning that by using mean for ms imputing we might present bias therefore we gonna use median"
   ]
  },
  {
   "cell_type": "code",
   "execution_count": null,
   "metadata": {},
   "outputs": [],
   "source": []
  },
  {
   "cell_type": "code",
   "execution_count": 5,
   "metadata": {},
   "outputs": [
    {
     "name": "stdout",
     "output_type": "stream",
     "text": [
      "Percent of missing \"Cabin\" records is 77.1% \n"
     ]
    }
   ],
   "source": [
    "#Cabin\n",
    "cabin_ms = round(train['cabin'].isnull().sum()/train.shape[0] * 100, 2)\n",
    "print('Percent of missing \"Cabin\" records is {}% '.format(cabin_ms))\n",
    "# 77% is too much therefore we gonna ignore this feature "
   ]
  },
  {
   "cell_type": "code",
   "execution_count": 6,
   "metadata": {},
   "outputs": [
    {
     "name": "stdout",
     "output_type": "stream",
     "text": [
      "Percent of missing \"Embarked\" records is 0.22% \n",
      "Boarded passengers grouped by port of embarkation (C = Cherbourg, Q = Queenstown, S = Southampton):\n",
      "S    644\n",
      "C    168\n",
      "Q     77\n",
      "Name: embarked, dtype: int64\n"
     ]
    },
    {
     "data": {
      "image/png": "[encoded data removed]",
      "text/plain": [
       "<Figure size 432x288 with 1 Axes>"
      ]
     },
     "metadata": {},
     "output_type": "display_data"
    }
   ],
   "source": [
    "#Embarked\n",
    "cabin_ms = round(train['embarked'].isnull().sum()/train.shape[0] * 100, 2)\n",
    "print('Percent of missing \"Embarked\" records is {}% '.format(cabin_ms))\n",
    "# Let's plot it:\n",
    "print('Boarded passengers grouped by port of embarkation (C = Cherbourg, Q = Queenstown, S = Southampton):')\n",
    "print(train['embarked'].value_counts())\n",
    "sns.countplot(x='embarked', data=train, palette='Set1')\n",
    "plt.title('Passenger Count by Embarkation Point')\n",
    "plt.show()"
   ]
  },
  {
   "cell_type": "code",
   "execution_count": 7,
   "metadata": {},
   "outputs": [
    {
     "name": "stdout",
     "output_type": "stream",
     "text": [
      "ratio between survived men and women is: men: 0.74 and women: 0.26\n"
     ]
    }
   ],
   "source": [
    "#Checking the ratio of survived man vs woman\n",
    "train[(train['survived']==1) & (train['sex']==\"female\")]['sex'].count()/len(train)\n",
    "\n",
    "print('ratio between survived men and women is: men: {} and women: {}'.format(round(1-train[(train['survived']==1) & (train['sex']==\"female\")]['sex'].count()/len(train), 2), round(train[(train['survived']==1) & (train['sex']==\"female\")]['sex'].count()/len(train),2)))"
   ]
  },
  {
   "cell_type": "code",
   "execution_count": 8,
   "metadata": {},
   "outputs": [
    {
     "name": "stdout",
     "output_type": "stream",
     "text": [
      "Out of 109 men only 18.89% survived \n",
      " out of 233  women  74.2% survived\n"
     ]
    }
   ],
   "source": [
    "#checking percentage of men and women survived\n",
    "man = train.loc[train.sex =='male']['survived']\n",
    "woman = train.loc[train.sex =='female']['survived']\n",
    "print('Out of {} men only {}% survived \\n out of {}  women  {}% survived'.format(sum(man), round((sum(man)/len(man)*100),2), sum(woman), round((sum(woman)/len(woman)*100),2)))"
   ]
  },
  {
   "cell_type": "code",
   "execution_count": 9,
   "metadata": {},
   "outputs": [
    {
     "data": {
      "image/png": "[encoded data removed]",
      "text/plain": [
       "<Figure size 432x288 with 1 Axes>"
      ]
     },
     "metadata": {},
     "output_type": "display_data"
    }
   ],
   "source": [
    "# Grouping by passenger class and calculating the survival rate for each class\n",
    "survival_by_class = train.groupby('pclass')['survived'].mean()\n",
    "\n",
    "# Plotting the survival rate for each class\n",
    "plt.bar(survival_by_class.index, survival_by_class.values)\n",
    "plt.xlabel('Passenger Class')\n",
    "plt.ylabel('Survival Rate')\n",
    "plt.title('Survival Rate by Passenger Class')\n",
    "plt.xticks([1, 2, 3])  # Setting x-ticks to display passenger class numbers\n",
    "plt.show()\n",
    "\n",
    "#We clearly can see the correlation between passenger class and surviving rate"
   ]
  },
  {
   "cell_type": "code",
   "execution_count": null,
   "metadata": {},
   "outputs": [],
   "source": []
  },
  {
   "cell_type": "markdown",
   "metadata": {
    "tags": []
   },
   "source": [
    "`DATA PREPROCESSING AND FEATURE ENGINEERING`"
   ]
  },
  {
   "cell_type": "code",
   "execution_count": 17,
   "metadata": {},
   "outputs": [],
   "source": [
    "#imputing missing values with respective ones discussed above to new train_data dataframe\n",
    "# train_data = train.copy()\n",
    "train[\"age\"].fillna(train[\"age\"].median(skipna=True), inplace=True)\n",
    "train[\"embarked\"].fillna(train['embarked'].value_counts().idxmax(), inplace=True)\n",
    "train.drop('cabin', axis=1, inplace=True)\n",
    "\n",
    "#test\n",
    "# test_data = test.copy()\n",
    "test[\"age\"].fillna(train[\"age\"].median(skipna=True), inplace=True)\n",
    "test.drop('cabin', axis=1, inplace=True)\n",
    "test.dropna(subset=['fare'], inplace=True)"
   ]
  },
  {
   "cell_type": "code",
   "execution_count": 18,
   "metadata": {},
   "outputs": [],
   "source": [
    "# Family Size (adding 1 for the person itself)\n",
    "train['familysize'] = train['sibsp'] + train['parch'] + 1\n",
    "test['familysize'] = test['sibsp'] + test['parch'] + 1\n",
    "\n",
    "# Title\n",
    "train['title'] = train['name'].str.extract(' ([A-Za-z]+)\\.', expand=False)\n",
    "test['title'] = test['name'].str.extract(' ([A-Za-z]+)\\.', expand=False)\n",
    "\n",
    "# IsAlone\n",
    "train['is_alone'] = (train['familysize'] == 1).astype(int)\n",
    "test['is_alone'] = (test['familysize'] == 1).astype(int)\n",
    "\n",
    "# Age Group\n",
    "train['age_group'] = pd.cut(train['age'], bins=[0-10, 18, 30, 50, 100], labels=['child', 'young_adult', 'adult', 'elderly'])\n",
    "test['age_group'] = pd.cut(test['age'], bins=[0-10, 18, 30, 50, 100], labels=['child', 'young_adult', 'adult', 'elderly'])\n",
    "\n",
    "# Fare per Person\n",
    "train['fare_per_person'] = train['fare'] / train['familysize']\n",
    "test['fare_per_person'] = test['fare'] / test['familysize']\n",
    "\n",
    "# Ticket Frequency\n",
    "ticket_counts = train['ticket'].value_counts()\n",
    "train['ticketfrequency'] = train['ticket'].apply(lambda x: ticket_counts[x])\n",
    "\n",
    "ticket_counts_test = test['ticket'].value_counts()\n",
    "test['ticketfrequency'] = test['ticket'].apply(lambda x: ticket_counts_test[x])\n",
    "\n",
    "# Age * Class\n",
    "train['age*class'] = train['age'] * train['pclass']\n",
    "train['age*class'] = train['age'] * train['pclass']"
   ]
  },
  {
   "cell_type": "code",
   "execution_count": 19,
   "metadata": {},
   "outputs": [
    {
     "data": {
      "text/html": [
       "<div>\n",
       "<style scoped>\n",
       "    .dataframe tbody tr th:only-of-type {\n",
       "        vertical-align: middle;\n",
       "    }\n",
       "\n",
       "    .dataframe tbody tr th {\n",
       "        vertical-align: top;\n",
       "    }\n",
       "\n",
       "    .dataframe thead th {\n",
       "        text-align: right;\n",
       "    }\n",
       "</style>\n",
       "<table border=\"1\" class=\"dataframe\">\n",
       "  <thead>\n",
       "    <tr style=\"text-align: right;\">\n",
       "      <th></th>\n",
       "      <th>passengerid</th>\n",
       "      <th>survived</th>\n",
       "      <th>pclass</th>\n",
       "      <th>name</th>\n",
       "      <th>sex</th>\n",
       "      <th>age</th>\n",
       "      <th>sibsp</th>\n",
       "      <th>parch</th>\n",
       "      <th>ticket</th>\n",
       "      <th>fare</th>\n",
       "      <th>embarked</th>\n",
       "      <th>familysize</th>\n",
       "      <th>title</th>\n",
       "      <th>is_alone</th>\n",
       "      <th>age_group</th>\n",
       "      <th>fare_per_person</th>\n",
       "      <th>ticketfrequency</th>\n",
       "      <th>age*class</th>\n",
       "    </tr>\n",
       "  </thead>\n",
       "  <tbody>\n",
       "    <tr>\n",
       "      <th>0</th>\n",
       "      <td>1</td>\n",
       "      <td>0</td>\n",
       "      <td>3</td>\n",
       "      <td>Braund, Mr. Owen Harris</td>\n",
       "      <td>1</td>\n",
       "      <td>22.0</td>\n",
       "      <td>1</td>\n",
       "      <td>0</td>\n",
       "      <td>A/5 21171</td>\n",
       "      <td>7.2500</td>\n",
       "      <td>2</td>\n",
       "      <td>2</td>\n",
       "      <td>Mr</td>\n",
       "      <td>0</td>\n",
       "      <td>young_adult</td>\n",
       "      <td>3.62500</td>\n",
       "      <td>1</td>\n",
       "      <td>66.0</td>\n",
       "    </tr>\n",
       "    <tr>\n",
       "      <th>1</th>\n",
       "      <td>2</td>\n",
       "      <td>1</td>\n",
       "      <td>1</td>\n",
       "      <td>Cumings, Mrs. John Bradley (Florence Briggs Th...</td>\n",
       "      <td>0</td>\n",
       "      <td>38.0</td>\n",
       "      <td>1</td>\n",
       "      <td>0</td>\n",
       "      <td>PC 17599</td>\n",
       "      <td>71.2833</td>\n",
       "      <td>0</td>\n",
       "      <td>2</td>\n",
       "      <td>Mrs</td>\n",
       "      <td>0</td>\n",
       "      <td>adult</td>\n",
       "      <td>35.64165</td>\n",
       "      <td>1</td>\n",
       "      <td>38.0</td>\n",
       "    </tr>\n",
       "    <tr>\n",
       "      <th>2</th>\n",
       "      <td>3</td>\n",
       "      <td>1</td>\n",
       "      <td>3</td>\n",
       "      <td>Heikkinen, Miss. Laina</td>\n",
       "      <td>0</td>\n",
       "      <td>26.0</td>\n",
       "      <td>0</td>\n",
       "      <td>0</td>\n",
       "      <td>STON/O2. 3101282</td>\n",
       "      <td>7.9250</td>\n",
       "      <td>2</td>\n",
       "      <td>1</td>\n",
       "      <td>Miss</td>\n",
       "      <td>1</td>\n",
       "      <td>young_adult</td>\n",
       "      <td>7.92500</td>\n",
       "      <td>1</td>\n",
       "      <td>78.0</td>\n",
       "    </tr>\n",
       "    <tr>\n",
       "      <th>3</th>\n",
       "      <td>4</td>\n",
       "      <td>1</td>\n",
       "      <td>1</td>\n",
       "      <td>Futrelle, Mrs. Jacques Heath (Lily May Peel)</td>\n",
       "      <td>0</td>\n",
       "      <td>35.0</td>\n",
       "      <td>1</td>\n",
       "      <td>0</td>\n",
       "      <td>113803</td>\n",
       "      <td>53.1000</td>\n",
       "      <td>2</td>\n",
       "      <td>2</td>\n",
       "      <td>Mrs</td>\n",
       "      <td>0</td>\n",
       "      <td>adult</td>\n",
       "      <td>26.55000</td>\n",
       "      <td>2</td>\n",
       "      <td>35.0</td>\n",
       "    </tr>\n",
       "    <tr>\n",
       "      <th>4</th>\n",
       "      <td>5</td>\n",
       "      <td>0</td>\n",
       "      <td>3</td>\n",
       "      <td>Allen, Mr. William Henry</td>\n",
       "      <td>1</td>\n",
       "      <td>35.0</td>\n",
       "      <td>0</td>\n",
       "      <td>0</td>\n",
       "      <td>373450</td>\n",
       "      <td>8.0500</td>\n",
       "      <td>2</td>\n",
       "      <td>1</td>\n",
       "      <td>Mr</td>\n",
       "      <td>1</td>\n",
       "      <td>adult</td>\n",
       "      <td>8.05000</td>\n",
       "      <td>1</td>\n",
       "      <td>105.0</td>\n",
       "    </tr>\n",
       "  </tbody>\n",
       "</table>\n",
       "</div>"
      ],
      "text/plain": [
       "   passengerid  survived  pclass  \\\n",
       "0            1         0       3   \n",
       "1            2         1       1   \n",
       "2            3         1       3   \n",
       "3            4         1       1   \n",
       "4            5         0       3   \n",
       "\n",
       "                                                name  sex   age  sibsp  parch  \\\n",
       "0                            Braund, Mr. Owen Harris    1  22.0      1      0   \n",
       "1  Cumings, Mrs. John Bradley (Florence Briggs Th...    0  38.0      1      0   \n",
       "2                             Heikkinen, Miss. Laina    0  26.0      0      0   \n",
       "3       Futrelle, Mrs. Jacques Heath (Lily May Peel)    0  35.0      1      0   \n",
       "4                           Allen, Mr. William Henry    1  35.0      0      0   \n",
       "\n",
       "             ticket     fare  embarked  familysize title  is_alone  \\\n",
       "0         A/5 21171   7.2500         2           2    Mr         0   \n",
       "1          PC 17599  71.2833         0           2   Mrs         0   \n",
       "2  STON/O2. 3101282   7.9250         2           1  Miss         1   \n",
       "3            113803  53.1000         2           2   Mrs         0   \n",
       "4            373450   8.0500         2           1    Mr         1   \n",
       "\n",
       "     age_group  fare_per_person  ticketfrequency  age*class  \n",
       "0  young_adult          3.62500                1       66.0  \n",
       "1        adult         35.64165                1       38.0  \n",
       "2  young_adult          7.92500                1       78.0  \n",
       "3        adult         26.55000                2       35.0  \n",
       "4        adult          8.05000                1      105.0  "
      ]
     },
     "execution_count": 19,
     "metadata": {},
     "output_type": "execute_result"
    }
   ],
   "source": [
    "train.head()"
   ]
  },
  {
   "cell_type": "code",
   "execution_count": 20,
   "metadata": {},
   "outputs": [],
   "source": [
    "#Encoding categorical features\n",
    "Categorical_cols = ['sex', 'embarked', 'title', 'age_group']\n",
    "le = LabelEncoder()\n",
    "for col in Categorical_cols:    \n",
    "    train[col] = le.fit_transform(train[[col]])\n"
   ]
  },
  {
   "cell_type": "code",
   "execution_count": null,
   "metadata": {},
   "outputs": [],
   "source": [
    "#Detecting outliers and dealing with them\n",
    "#let's check all the continious variables\n",
    "# Num _COLS \n",
    "NUM_COLS_F = [col for col in train.columns if train[col].dtype == 'float']\n",
    "\n",
    "# BoxPLot To Identify Outliers\n",
    "fig = go.Figure()   \n",
    "# Sub Plots\n",
    "fig = make_subplots(rows=2, cols=2, subplot_titles=NUM_COLS_F)\n",
    "\n",
    "# Loop through each row of subplots\n",
    "for i in range(2):\n",
    "    # Loop through each subplot in the row\n",
    "    for j in range(2):\n",
    "        # Calculate the index of the current numerical column\n",
    "        index = i * 2 + j\n",
    "        # Check if the index is within the range of available numerical columns\n",
    "        if index < len(NUM_COLS_F):\n",
    "            # Add a box plot for the current numerical column to the subplot\n",
    "            fig.add_trace(go.Box(x=train[NUM_COLS_F[index]], name=NUM_COLS_F[index], marker_color=palette[index]), row=i + 1, col=j + 1)\n",
    "\n",
    "# Update layout\n",
    "fig.update_layout(height=600, width=1000, title_text=\"Boxplot of Numerical Columns\")\n",
    "\n",
    "# Show the plot\n",
    "fig.show()"
   ]
  },
  {
   "cell_type": "code",
   "execution_count": null,
   "metadata": {},
   "outputs": [],
   "source": [
    "# # Cols to Plot\n",
    "# NUM_COLS_F = [col for col in train.columns if train[col].dtype == 'float']\n",
    "# # Numerical Distribution of Age Vs Fare\n",
    "# plot_numerical_distribution_with_hue(train,NUM_COLS_F,'Survived')"
   ]
  },
  {
   "cell_type": "markdown",
   "metadata": {},
   "source": [
    "`Model Selection and Training`"
   ]
  },
  {
   "cell_type": "markdown",
   "metadata": {},
   "source": [
    "`Model Evaluation and Validation`"
   ]
  },
  {
   "cell_type": "markdown",
   "metadata": {},
   "source": [
    "`Hyperparameter Tuning and Optimization`"
   ]
  },
  {
   "cell_type": "markdown",
   "metadata": {},
   "source": [
    "`Result Analysis`"
   ]
  },
  {
   "cell_type": "markdown",
   "metadata": {},
   "source": []
  }
 ],
 "metadata": {
  "kernelspec": {
   "display_name": "Python 3",
   "language": "python",
   "name": "python3"
  },
  "language_info": {
   "codemirror_mode": {
    "name": "ipython",
    "version": 3
   },
   "file_extension": ".py",
   "mimetype": "text/x-python",
   "name": "python",
   "nbconvert_exporter": "python",
   "pygments_lexer": "ipython3",
   "version": "3.9.12"
  },
  "orig_nbformat": 4
 },
 "nbformat": 4,
 "nbformat_minor": 2
}
